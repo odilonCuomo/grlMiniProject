{
 "cells": [
  {
   "cell_type": "code",
   "execution_count": 5,
   "metadata": {
    "colab": {
     "base_uri": "https://localhost:8080/"
    },
    "execution": {
     "iopub.execute_input": "2023-01-03T07:23:13.707312Z",
     "iopub.status.busy": "2023-01-03T07:23:13.706946Z",
     "iopub.status.idle": "2023-01-03T07:23:15.475001Z",
     "shell.execute_reply": "2023-01-03T07:23:15.473912Z",
     "shell.execute_reply.started": "2023-01-03T07:23:13.707286Z"
    },
    "id": "iBXbNVfGT4Ne",
    "outputId": "ff559a97-c649-4caa-9d1c-10cdf97c1b75"
   },
   "outputs": [
    {
     "name": "stdout",
     "output_type": "stream",
     "text": [
      "1.12.0+cu116\n"
     ]
    }
   ],
   "source": [
    "# Check PyTorch version installed on this system\n",
    "!python -c \"import torch; print(torch.__version__)\""
   ]
  },
  {
   "cell_type": "code",
   "execution_count": 6,
   "metadata": {
    "execution": {
     "iopub.execute_input": "2023-01-03T07:23:15.477703Z",
     "iopub.status.busy": "2023-01-03T07:23:15.477408Z",
     "iopub.status.idle": "2023-01-03T07:23:26.075690Z",
     "shell.execute_reply": "2023-01-03T07:23:26.074396Z",
     "shell.execute_reply.started": "2023-01-03T07:23:15.477673Z"
    },
    "id": "3LYABnK-UCRd"
   },
   "outputs": [],
   "source": [
    "%%capture\n",
    "# Download the corresponding PyTorch Geometric module\n",
    "\"\"\"\n",
    "Assign to TORCH with what you get from the cell above. E.g., export TORCH=1.12.1+cu113\n",
    "\"\"\"\n",
    "%env TORCH=1.12.0+cu116\n",
    "!pip install torch-scatter -f https://data.pyg.org/whl/torch-${TORCH}.html\n",
    "!pip install torch-sparse -f https://data.pyg.org/whl/torch-${TORCH}.html\n",
    "!pip install torch-geometric\n"
   ]
  },
  {
   "cell_type": "code",
   "execution_count": 7,
   "metadata": {
    "colab": {
     "base_uri": "https://localhost:8080/"
    },
    "execution": {
     "iopub.execute_input": "2023-01-03T07:23:26.078046Z",
     "iopub.status.busy": "2023-01-03T07:23:26.077616Z",
     "iopub.status.idle": "2023-01-03T07:23:26.103745Z",
     "shell.execute_reply": "2023-01-03T07:23:26.102487Z",
     "shell.execute_reply.started": "2023-01-03T07:23:26.077988Z"
    },
    "id": "U-bIkj-AUN_H",
    "outputId": "d56032ed-4d33-4182-d314-ee5d63e277f4"
   },
   "outputs": [],
   "source": [
    "import torch\n",
    "import torch.nn as nn\n",
    "import numpy as np\n",
    "import torch.nn.functional as F\n",
    "from torch_geometric.datasets import Planetoid\n",
    "from torch_geometric.loader import DataLoader\n",
    "import torch_geometric.nn as geonn\n",
    "import torch_geometric.utils as U\n",
    "\n",
    "device = torch.device(\"cuda\") if torch.cuda.is_available() else torch.device(\"cpu\")\n",
    "\n",
    "dataset = Planetoid(\"/tmp/Cora\", name=\"Cora\")\n",
    "num_nodes = dataset.data.num_nodes\n",
    "num_edges = dataset.data.num_edges // 2\n",
    "num_features = dataset.num_node_features\n",
    "num_classes = dataset.num_classes"
   ]
  },
  {
   "cell_type": "code",
   "execution_count": 10,
   "metadata": {
    "execution": {
     "iopub.execute_input": "2023-01-03T07:23:26.127241Z",
     "iopub.status.busy": "2023-01-03T07:23:26.126896Z",
     "iopub.status.idle": "2023-01-03T07:23:26.167918Z",
     "shell.execute_reply": "2023-01-03T07:23:26.166734Z",
     "shell.execute_reply.started": "2023-01-03T07:23:26.127215Z"
    },
    "id": "zN0sXjf3NCPJ"
   },
   "outputs": [],
   "source": [
    "from typing import Optional, Tuple, Union\n",
    "from typing import Any\n",
    "import math\n",
    "\n",
    "from torch import Tensor\n",
    "from torch.nn import Parameter\n",
    "from torch_sparse import SparseTensor, set_diag\n",
    "\n",
    "from torch_geometric.nn.conv import MessagePassing\n",
    "from torch_geometric.nn.dense.linear import Linear\n",
    "from torch_geometric.typing import NoneType  # noqa\n",
    "from torch_geometric.typing import Adj, OptPairTensor, OptTensor, Size\n",
    "from torch_geometric.utils import add_self_loops, remove_self_loops, softmax\n",
    "\n",
    "def constant(value: Any, fill_value: float):\n",
    "    if isinstance(value, Tensor):\n",
    "        value.data.fill_(fill_value)\n",
    "    else:\n",
    "        for v in value.parameters() if hasattr(value, 'parameters') else []:\n",
    "            constant(v, fill_value)\n",
    "        for v in value.buffers() if hasattr(value, 'buffers') else []:\n",
    "            constant(v, fill_value)\n",
    "\n",
    "def glorot(value: Any):\n",
    "    if isinstance(value, Tensor):\n",
    "        stdv = math.sqrt(6.0 / (value.size(-2) + value.size(-1)))\n",
    "        value.data.uniform_(-stdv, stdv)\n",
    "    else:\n",
    "        for v in value.parameters() if hasattr(value, 'parameters') else []:\n",
    "            glorot(v)\n",
    "        for v in value.buffers() if hasattr(value, 'buffers') else []:\n",
    "            glorot(v)\n",
    "\n",
    "def zeros(value: Any):\n",
    "    constant(value, 0.)\n",
    "\n",
    "class GATConvModed(MessagePassing):\n",
    "    def __init__(\n",
    "        self,\n",
    "        in_channels: Union[int, Tuple[int, int]],\n",
    "        out_channels: int,\n",
    "        heads: int = 1,\n",
    "        concat: bool = True,\n",
    "        mode: str = 'Concat',\n",
    "        negative_slope: float = 0.2,\n",
    "        dropout: float = 0.0,\n",
    "        add_self_loops: bool = True,\n",
    "        edge_dim: Optional[int] = None,\n",
    "        fill_value: Union[float, Tensor, str] = 'mean',\n",
    "        bias: bool = False,\n",
    "        **kwargs,\n",
    "    ):\n",
    "        kwargs.setdefault('aggr', 'add')\n",
    "        super().__init__(node_dim=0, **kwargs)\n",
    "\n",
    "        self.in_channels = in_channels\n",
    "        self.out_channels = out_channels\n",
    "        self.heads = heads\n",
    "        self.concat = concat\n",
    "        self.mode = mode\n",
    "        self.negative_slope = negative_slope\n",
    "        self.dropout = dropout\n",
    "        self.add_self_loops = add_self_loops\n",
    "        self.edge_dim = edge_dim\n",
    "        self.fill_value = fill_value\n",
    "\n",
    "        # In case we are operating in bipartite graphs, we apply separate\n",
    "        # transformations 'lin_src' and 'lin_dst' to source and target nodes:\n",
    "        if isinstance(in_channels, int):\n",
    "            self.lin_src = Linear(in_channels, heads * out_channels,\n",
    "                                  bias=False, weight_initializer='glorot')\n",
    "            self.lin_dst = self.lin_src\n",
    "        else:\n",
    "            self.lin_src = Linear(in_channels[0], heads * out_channels, False,\n",
    "                                  weight_initializer='glorot')\n",
    "            self.lin_dst = Linear(in_channels[1], heads * out_channels, False,\n",
    "                                  weight_initializer='glorot')\n",
    "\n",
    "        # The learnable parameters to compute attention coefficients:\n",
    "        self.att_src = Parameter(torch.Tensor(1, heads, out_channels))\n",
    "        self.att_dst = Parameter(torch.Tensor(1, heads, out_channels))\n",
    "\n",
    "        if edge_dim is not None:\n",
    "            self.lin_edge = Linear(edge_dim, heads * out_channels, bias=False,\n",
    "                                   weight_initializer='glorot')\n",
    "            self.att_edge = Parameter(torch.Tensor(1, heads, out_channels))\n",
    "        else:\n",
    "            self.lin_edge = None\n",
    "            self.register_parameter('att_edge', None)\n",
    "\n",
    "        if bias and concat:\n",
    "            self.bias = Parameter(torch.Tensor(heads * out_channels))\n",
    "        elif bias and not concat:\n",
    "            self.bias = Parameter(torch.Tensor(out_channels))\n",
    "        else:\n",
    "            self.register_parameter('bias', None)\n",
    "\n",
    "        self.reset_parameters()\n",
    "\n",
    "    def reset_parameters(self):\n",
    "        self.lin_src.reset_parameters()\n",
    "        self.lin_dst.reset_parameters()\n",
    "        if self.lin_edge is not None:\n",
    "            self.lin_edge.reset_parameters()\n",
    "        glorot(self.att_src)\n",
    "        glorot(self.att_dst)\n",
    "        glorot(self.att_edge)\n",
    "        zeros(self.bias)\n",
    "\n",
    "\n",
    "    def forward(self, x: Union[Tensor, OptPairTensor], edge_index: Adj,\n",
    "                edge_attr: OptTensor = None, size: Size = None,\n",
    "                return_attention_weights=None):\n",
    "\n",
    "        H, C = self.heads, self.out_channels\n",
    "\n",
    "        # We first transform the input node features. If a tuple is passed, we\n",
    "        # transform source and target node features via separate weights:\n",
    "        if isinstance(x, Tensor):\n",
    "            assert x.dim() == 2, \"Static graphs not supported in 'GATConv'\"\n",
    "            x_src = x_dst = self.lin_src(x).view(-1, H, C)\n",
    "        else:  # Tuple of source and target node features:\n",
    "            x_src, x_dst = x\n",
    "            assert x_src.dim() == 2, \"Static graphs not supported in 'GATConv'\"\n",
    "            x_src = self.lin_src(x_src).view(-1, H, C)\n",
    "            if x_dst is not None:\n",
    "                x_dst = self.lin_dst(x_dst).view(-1, H, C)\n",
    "\n",
    "        x = (x_src, x_dst)\n",
    "\n",
    "        # Next, we compute node-level attention coefficients, both for source\n",
    "        # and target nodes (if present):\n",
    "        alpha_src = (x_src * self.att_src).sum(dim=-1)\n",
    "        alpha_dst = None if x_dst is None else (x_dst * self.att_dst).sum(-1)\n",
    "        alpha = (alpha_src, alpha_dst)\n",
    "\n",
    "        if self.add_self_loops:\n",
    "            if isinstance(edge_index, Tensor):\n",
    "                # We only want to add self-loops for nodes that appear both as\n",
    "                # source and target nodes:\n",
    "                num_nodes = x_src.size(0)\n",
    "                if x_dst is not None:\n",
    "                    num_nodes = min(num_nodes, x_dst.size(0))\n",
    "                num_nodes = min(size) if size is not None else num_nodes\n",
    "                edge_index, edge_attr = remove_self_loops(\n",
    "                    edge_index, edge_attr)\n",
    "                edge_index, edge_attr = add_self_loops(\n",
    "                    edge_index, edge_attr, fill_value=self.fill_value,\n",
    "                    num_nodes=num_nodes)\n",
    "            elif isinstance(edge_index, SparseTensor):\n",
    "                if self.edge_dim is None:\n",
    "                    edge_index = set_diag(edge_index)\n",
    "                else:\n",
    "                    raise NotImplementedError(\n",
    "                        \"The usage of 'edge_attr' and 'add_self_loops' \"\n",
    "                        \"simultaneously is currently not yet supported for \"\n",
    "                        \"'edge_index' in a 'SparseTensor' form\")\n",
    "\n",
    "        # edge_updater_type: (alpha: OptPairTensor, edge_attr: OptTensor)\n",
    "        alpha = self.edge_updater(edge_index, alpha=alpha, edge_attr=edge_attr)\n",
    "\n",
    "        # propagate_type: (x: OptPairTensor, alpha: Tensor)\n",
    "        out = self.propagate(edge_index, x=x, alpha=alpha, size=size)\n",
    "        \n",
    "        modes = {\"Concat\", \"Maxpool\", \"Mean\"}\n",
    "        assert(self.mode in modes)\n",
    "        if (self.mode == \"Concat\"):\n",
    "            out = out.view(-1, self.heads * self.out_channels)\n",
    "        elif(self.mode == \"Mean\"):\n",
    "            out = out.mean(dim=1)\n",
    "        else: #MAXPOOL\n",
    "            out = (torch.max(out, dim=1))[0]\n",
    "\n",
    "        if self.bias is not None:\n",
    "            out = out + self.bias\n",
    "\n",
    "        if isinstance(return_attention_weights, bool):\n",
    "            if isinstance(edge_index, Tensor):\n",
    "                return out, (edge_index, alpha)\n",
    "            elif isinstance(edge_index, SparseTensor):\n",
    "                return out, edge_index.set_value(alpha, layout='coo')\n",
    "        else:\n",
    "            return out\n",
    "\n",
    "\n",
    "    def edge_update(self, alpha_j: Tensor, alpha_i: OptTensor,\n",
    "                    edge_attr: OptTensor, index: Tensor, ptr: OptTensor,\n",
    "                    size_i: Optional[int]) -> Tensor:\n",
    "        # Given edge-level attention coefficients for source and target nodes,\n",
    "        # we simply need to sum them up to \"emulate\" concatenation:\n",
    "        alpha = alpha_j if alpha_i is None else alpha_j + alpha_i\n",
    "\n",
    "        if edge_attr is not None and self.lin_edge is not None:\n",
    "            if edge_attr.dim() == 1:\n",
    "                edge_attr = edge_attr.view(-1, 1)\n",
    "            edge_attr = self.lin_edge(edge_attr)\n",
    "            edge_attr = edge_attr.view(-1, self.heads, self.out_channels)\n",
    "            alpha_edge = (edge_attr * self.att_edge).sum(dim=-1)\n",
    "            alpha = alpha + alpha_edge\n",
    "        \n",
    "        alpha = F.leaky_relu(alpha, self.negative_slope)\n",
    "        alpha = softmax(alpha, index, ptr, size_i)\n",
    "        alpha = F.dropout(alpha, p=self.dropout, training=self.training)\n",
    "        return alpha\n",
    "\n",
    "\n",
    "    def message(self, x_j: Tensor, alpha: Tensor) -> Tensor:\n",
    "        return alpha.unsqueeze(-1) * x_j\n",
    "\n",
    "    def __repr__(self) -> str:\n",
    "        return (f'{self.__class__.__name__}({self.in_channels}, '\n",
    "                f'{self.out_channels}, heads={self.heads})')\n",
    "        \n",
    "\n",
    "class GATCoraModed(nn.Module):\n",
    "  def __init__(self, num_features, final_dim, edge_ix, hidden_features, heads, mode):\n",
    "    super(GATCoraModed, self).__init__()\n",
    "    self.edge_ix = edge_ix\n",
    "    head_agg_dim = heads * hidden_features if (mode == \"Concat\") else hidden_features\n",
    "    self.gatconv1 = GATConvModed(num_features, hidden_features, heads, concat=True, mode=mode)\n",
    "    final_agg = \"Mean\"# if (mode == \"Concat\") else mode\n",
    "    self.gatconv2 = GATConvModed(head_agg_dim, final_dim, heads, concat=True, mode=final_agg)\n",
    "\n",
    "  def forward(self, x):\n",
    "    x = self.gatconv1(x, self.edge_ix)\n",
    "    x = self.gatconv2(x, self.edge_ix)\n",
    "    return x\n",
    "\n",
    "  # Used to reset the weights of the network when training multiple times with\n",
    "  # different hyperparameters\n",
    "  def reset_parameters(self):\n",
    "      def _reset_module_parameters(module):\n",
    "          for layer in module.children():\n",
    "              if hasattr(layer, 'reset_parameters'):\n",
    "                  layer.reset_parameters()\n",
    "              elif hasattr(layer, 'children'):\n",
    "                  for child_layer in layer.children():\n",
    "                      _reset_module_parameters(child_layer)\n",
    "\n",
    "      _reset_module_parameters(self)"
   ]
  },
  {
   "cell_type": "markdown",
   "metadata": {
    "id": "KElnPNkVyaDG"
   },
   "source": [
    "Setup CORA and model:\n",
    "The head aggregation options are: \"Concat\", \"Maxpool\", and \"Mean\"."
   ]
  },
  {
   "cell_type": "code",
   "execution_count": 11,
   "metadata": {
    "colab": {
     "base_uri": "https://localhost:8080/"
    },
    "execution": {
     "iopub.execute_input": "2023-01-03T07:23:26.169538Z",
     "iopub.status.busy": "2023-01-03T07:23:26.169211Z",
     "iopub.status.idle": "2023-01-03T07:23:27.968345Z",
     "shell.execute_reply": "2023-01-03T07:23:27.967358Z",
     "shell.execute_reply.started": "2023-01-03T07:23:26.169510Z"
    },
    "id": "doOOnRIqfAbl",
    "outputId": "d60b926b-1e70-409f-db78-4015cb619b78"
   },
   "outputs": [
    {
     "name": "stdout",
     "output_type": "stream",
     "text": [
      "torch.Size([2708, 2708])\n",
      "torch.Size([2, 10556])\n"
     ]
    }
   ],
   "source": [
    "# The Cora dataset contains a single graph of 2708 nodes (i.e., papers).\n",
    "# We will use some of the nodes as training set and some as test set.\n",
    "data = dataset[0].to(device)\n",
    "\n",
    "test_mask = ~data.train_mask\n",
    "\n",
    "# According to the GNN equations, we need the adjacency matrix to compute each\n",
    "# layer convolution. The following line convert the sparse data\n",
    "# (i.e., list of edges) stored in the dataset in a single dense matrix.\n",
    "adj_matrix = U.to_dense_adj(data.edge_index).squeeze(0)\n",
    "\n",
    "print(adj_matrix.shape)\n",
    "print(data.edge_index.shape)\n",
    "\n",
    "# Define the hyperparameters we are gonna use:\n",
    "params = {\n",
    "    \"hidden_features\": 128,\n",
    "    \"heads\": 4,\n",
    "    \"learning_rate\": 1e-4,\n",
    "    \"num_epochs\": 100,\n",
    "}\n",
    "\n",
    "model = GATCoraModed(num_features, \n",
    "                   num_classes,data.edge_index, \n",
    "                   params[\"hidden_features\"],\n",
    "                   params[\"heads\"],\n",
    "                   \"Concat\"\n",
    "  ).to(device)"
   ]
  },
  {
   "cell_type": "markdown",
   "metadata": {
    "id": "Iq0jPUFoyc3C"
   },
   "source": [
    "Test function:"
   ]
  },
  {
   "cell_type": "code",
   "execution_count": 12,
   "metadata": {
    "colab": {
     "base_uri": "https://localhost:8080/"
    },
    "execution": {
     "iopub.execute_input": "2023-01-03T07:23:27.970460Z",
     "iopub.status.busy": "2023-01-03T07:23:27.969993Z",
     "iopub.status.idle": "2023-01-03T07:23:28.487682Z",
     "shell.execute_reply": "2023-01-03T07:23:28.486619Z",
     "shell.execute_reply.started": "2023-01-03T07:23:27.970423Z"
    },
    "id": "bi0kolo3OxNN",
    "outputId": "8547a575-e558-4d8a-ed46-9d8b79e4702e"
   },
   "outputs": [
    {
     "name": "stdout",
     "output_type": "stream",
     "text": [
      "0.21378503739833832\n"
     ]
    }
   ],
   "source": [
    "#model.reset_parameters()\n",
    "def test(model, data, adj_matrix, params):\n",
    "    model.eval()\n",
    "\n",
    "    with torch.no_grad():\n",
    "      output = model(data.x)\n",
    "      res = torch.argmax(output, dim=1)\n",
    "      correct = (res[test_mask] == data.y[test_mask]).float().sum()\n",
    "      test_accuracy = correct / len(data.y[test_mask])\n",
    "    \n",
    "    return test_accuracy.item()\n",
    "\n",
    "\n",
    "# By testing a random initialized module you should get around ~15% accuracy\n",
    "print(test(model, data, adj_matrix, params))"
   ]
  },
  {
   "cell_type": "markdown",
   "metadata": {
    "id": "3Omie95r9bU5"
   },
   "source": [
    "Training:"
   ]
  },
  {
   "cell_type": "code",
   "execution_count": 13,
   "metadata": {
    "colab": {
     "base_uri": "https://localhost:8080/"
    },
    "execution": {
     "iopub.execute_input": "2023-01-03T07:23:28.489198Z",
     "iopub.status.busy": "2023-01-03T07:23:28.488913Z",
     "iopub.status.idle": "2023-01-03T07:23:31.056270Z",
     "shell.execute_reply": "2023-01-03T07:23:31.053840Z",
     "shell.execute_reply.started": "2023-01-03T07:23:28.489174Z"
    },
    "id": "KT_iu3EJbY4H",
    "outputId": "847f6261-d841-4a20-8038-9ecff3f66f86"
   },
   "outputs": [
    {
     "name": "stdout",
     "output_type": "stream",
     "text": [
      "Training - Epoch 0\n",
      "Loss: 1.9530842304229736\n",
      "Accuracy: tensor(0.1143, device='cuda:0')\n",
      "\n",
      "Training - Epoch 32\n",
      "Loss: 1.6573365926742554\n",
      "Accuracy: tensor(0.9714, device='cuda:0')\n",
      "\n",
      "Training - Epoch 64\n",
      "Loss: 1.344024658203125\n",
      "Accuracy: tensor(0.9786, device='cuda:0')\n",
      "\n",
      "Training - Epoch 96\n",
      "Loss: 1.0037729740142822\n",
      "Accuracy: tensor(0.9857, device='cuda:0')\n",
      "\n",
      "Final test accuracy: 0.7830996513366699\n"
     ]
    }
   ],
   "source": [
    "def train(model, data, adj_matrix, params):\n",
    "    model.reset_parameters()\n",
    "    optimizer = torch.optim.Adam(\n",
    "            filter(lambda p: p.requires_grad, model.parameters()), \n",
    "            lr=params['learning_rate']\n",
    "        )\n",
    "    training_logs = {'losses': [], 'accuracies': []}\n",
    "    test_log = {'accuracies': []}\n",
    "\n",
    "    for epoch in range(params['num_epochs']):\n",
    "\n",
    "      model.train() # tell the torch model it's about to be trained\n",
    "      optimizer.zero_grad() # explicitly set gradients to 0 before starting backprop\n",
    "\n",
    "      output = model(data.x)\n",
    "\n",
    "      # compute the loss\n",
    "      loss_fn = nn.CrossEntropyLoss()\n",
    "      loss = loss_fn(output[data.train_mask], data.y[data.train_mask])\n",
    "\n",
    "      # apply loss\n",
    "      loss.backward()\n",
    "      optimizer.step()\n",
    "      res = torch.argmax(output, dim=1)\n",
    "      correct = (res[data.train_mask] == data.y[data.train_mask]).float().sum()\n",
    "      accuracy = correct / len(data.y[data.train_mask])\n",
    "      training_logs['losses'].append(loss.item())\n",
    "      training_logs['accuracies'].append(accuracy.item())\n",
    "\n",
    "      if epoch % 32 == 0:\n",
    "        print(\"Training - Epoch \" + str(epoch) + \"\\nLoss: \" + str(loss.item()) + \"\\nAccuracy: \" + str(accuracy) + \"\\n\")\n",
    "\n",
    "      test_acc = test(model, data, adj_matrix, params)\n",
    "      test_log['accuracies'].append(test_acc)\n",
    "\n",
    "    return training_logs['losses'], training_logs['accuracies'], test_log['accuracies']\n",
    "\n",
    "\n",
    "train_losses, train_accuracies, test_acc = train(model, data, adj_matrix, params)\n",
    "test_accuracy = test(model, data, data.edge_index, params)\n",
    "print(\"Final test accuracy:\", test_accuracy)"
   ]
  },
  {
   "cell_type": "code",
   "execution_count": 14,
   "metadata": {
    "execution": {
     "iopub.execute_input": "2023-01-03T07:23:31.057810Z",
     "iopub.status.busy": "2023-01-03T07:23:31.057510Z",
     "iopub.status.idle": "2023-01-03T07:23:31.194143Z",
     "shell.execute_reply": "2023-01-03T07:23:31.193029Z",
     "shell.execute_reply.started": "2023-01-03T07:23:31.057784Z"
    },
    "id": "Yc5QG5fGc8vL"
   },
   "outputs": [],
   "source": [
    "#Define models with different number of heads\n",
    "\n",
    "model2head = GATCoraModed(num_features, \n",
    "                   num_classes,data.edge_index, \n",
    "                   params[\"hidden_features\"],\n",
    "                   2, \"Concat\"\n",
    "  ).to(device)\n",
    "\n",
    "model3head = GATCoraModed(num_features, \n",
    "                   num_classes,data.edge_index, \n",
    "                   params[\"hidden_features\"],\n",
    "                   3, \"Concat\"\n",
    "  ).to(device)\n",
    "\n",
    "model4head = GATCoraModed(num_features, \n",
    "                   num_classes,data.edge_index, \n",
    "                   params[\"hidden_features\"],\n",
    "                   4, \"Concat\"\n",
    "  ).to(device)\n",
    "\n",
    "model6head = GATCoraModed(num_features, \n",
    "                   num_classes,data.edge_index, \n",
    "                   params[\"hidden_features\"],\n",
    "                   6, \"Concat\"\n",
    "  ).to(device)\n",
    "\n",
    "model8head = GATCoraModed(num_features, \n",
    "                   num_classes,data.edge_index, \n",
    "                   params[\"hidden_features\"],\n",
    "                   8, \"Concat\"\n",
    "  ).to(device)\n",
    "\n"
   ]
  },
  {
   "cell_type": "code",
   "execution_count": 15,
   "metadata": {
    "execution": {
     "iopub.execute_input": "2023-01-03T07:23:31.195542Z",
     "iopub.status.busy": "2023-01-03T07:23:31.195291Z",
     "iopub.status.idle": "2023-01-03T07:23:44.846776Z",
     "shell.execute_reply": "2023-01-03T07:23:44.845382Z",
     "shell.execute_reply.started": "2023-01-03T07:23:31.195517Z"
    },
    "id": "Yc5QG5fGc8vL"
   },
   "outputs": [
    {
     "name": "stdout",
     "output_type": "stream",
     "text": [
      "Training - Epoch 0\n",
      "Loss: 1.931856393814087\n",
      "Accuracy: tensor(0.2286, device='cuda:0')\n",
      "\n",
      "Training - Epoch 32\n",
      "Loss: 1.6555137634277344\n",
      "Accuracy: tensor(0.9643, device='cuda:0')\n",
      "\n",
      "Training - Epoch 64\n",
      "Loss: 1.3825035095214844\n",
      "Accuracy: tensor(0.9786, device='cuda:0')\n",
      "\n",
      "Training - Epoch 96\n",
      "Loss: 1.1023468971252441\n",
      "Accuracy: tensor(0.9857, device='cuda:0')\n",
      "\n",
      "Final test accuracy: 0.7784267663955688\n",
      "Training - Epoch 0\n",
      "Loss: 1.9524383544921875\n",
      "Accuracy: tensor(0.1214, device='cuda:0')\n",
      "\n",
      "Training - Epoch 32\n",
      "Loss: 1.6735926866531372\n",
      "Accuracy: tensor(0.9143, device='cuda:0')\n",
      "\n",
      "Training - Epoch 64\n",
      "Loss: 1.3842902183532715\n",
      "Accuracy: tensor(0.9643, device='cuda:0')\n",
      "\n",
      "Training - Epoch 96\n",
      "Loss: 1.0708255767822266\n",
      "Accuracy: tensor(0.9714, device='cuda:0')\n",
      "\n",
      "Final test accuracy: 0.7776479721069336\n",
      "Training - Epoch 0\n",
      "Loss: 1.9423809051513672\n",
      "Accuracy: tensor(0.2071, device='cuda:0')\n",
      "\n",
      "Training - Epoch 32\n",
      "Loss: 1.6461862325668335\n",
      "Accuracy: tensor(0.9643, device='cuda:0')\n",
      "\n",
      "Training - Epoch 64\n",
      "Loss: 1.33358895778656\n",
      "Accuracy: tensor(0.9786, device='cuda:0')\n",
      "\n",
      "Training - Epoch 96\n",
      "Loss: 0.9983651041984558\n",
      "Accuracy: tensor(0.9857, device='cuda:0')\n",
      "\n",
      "Final test accuracy: 0.7768691182136536\n",
      "Training - Epoch 0\n",
      "Loss: 1.9397127628326416\n",
      "Accuracy: tensor(0.1643, device='cuda:0')\n",
      "\n",
      "Training - Epoch 32\n",
      "Loss: 1.6345857381820679\n",
      "Accuracy: tensor(0.9786, device='cuda:0')\n",
      "\n",
      "Training - Epoch 64\n",
      "Loss: 1.2900723218917847\n",
      "Accuracy: tensor(0.9857, device='cuda:0')\n",
      "\n",
      "Training - Epoch 96\n",
      "Loss: 0.9083757996559143\n",
      "Accuracy: tensor(0.9786, device='cuda:0')\n",
      "\n",
      "Final test accuracy: 0.78387850522995\n",
      "Training - Epoch 0\n",
      "Loss: 1.9482389688491821\n",
      "Accuracy: tensor(0.1071, device='cuda:0')\n",
      "\n",
      "Training - Epoch 32\n",
      "Loss: 1.6293635368347168\n",
      "Accuracy: tensor(0.9714, device='cuda:0')\n",
      "\n",
      "Training - Epoch 64\n",
      "Loss: 1.2459572553634644\n",
      "Accuracy: tensor(0.9714, device='cuda:0')\n",
      "\n",
      "Training - Epoch 96\n",
      "Loss: 0.8159459233283997\n",
      "Accuracy: tensor(0.9714, device='cuda:0')\n",
      "\n",
      "Final test accuracy: 0.7943925261497498\n"
     ]
    }
   ],
   "source": [
    "res2 = train(model2head, data, adj_matrix, params)\n",
    "test_accuracy2 = test(model2head, data, data.edge_index, params)\n",
    "print(\"Final test accuracy:\", test_accuracy2)\n",
    "\n",
    "res3 = train(model3head, data, adj_matrix, params)\n",
    "test_accuracy3 = test(model3head, data, data.edge_index, params)\n",
    "print(\"Final test accuracy:\", test_accuracy3)\n",
    "\n",
    "res4 = train(model4head, data, adj_matrix, params)\n",
    "test_accuracy4 = test(model4head, data, data.edge_index, params)\n",
    "print(\"Final test accuracy:\", test_accuracy4)\n",
    "\n",
    "res6 = train(model6head, data, adj_matrix, params)\n",
    "test_accuracy6 = test(model6head, data, data.edge_index, params)\n",
    "print(\"Final test accuracy:\", test_accuracy6)\n",
    "\n",
    "res8 = train(model8head, data, adj_matrix, params)\n",
    "test_accuracy8 = test(model8head, data, data.edge_index, params)\n",
    "print(\"Final test accuracy:\", test_accuracy8)\n",
    "\n",
    "concatres = [res2, res3, res4, res6, res8]"
   ]
  },
  {
   "cell_type": "code",
   "execution_count": 24,
   "metadata": {
    "execution": {
     "iopub.execute_input": "2023-01-03T07:24:51.821564Z",
     "iopub.status.busy": "2023-01-03T07:24:51.820433Z",
     "iopub.status.idle": "2023-01-03T07:25:05.494660Z",
     "shell.execute_reply": "2023-01-03T07:25:05.493461Z",
     "shell.execute_reply.started": "2023-01-03T07:24:51.821538Z"
    },
    "id": "Yc5QG5fGc8vL"
   },
   "outputs": [
    {
     "name": "stdout",
     "output_type": "stream",
     "text": [
      "Training - Epoch 0\n",
      "Loss: 1.9427686929702759\n",
      "Accuracy: tensor(0.2214, device='cuda:0')\n",
      "\n",
      "Training - Epoch 32\n",
      "Loss: 1.7355848550796509\n",
      "Accuracy: tensor(0.9714, device='cuda:0')\n",
      "\n",
      "Training - Epoch 64\n",
      "Loss: 1.527125358581543\n",
      "Accuracy: tensor(0.9786, device='cuda:0')\n",
      "\n",
      "Training - Epoch 96\n",
      "Loss: 1.304888129234314\n",
      "Accuracy: tensor(0.9857, device='cuda:0')\n",
      "\n",
      "Final test accuracy: 0.7780373692512512\n",
      "Training - Epoch 0\n",
      "Loss: 1.9381616115570068\n",
      "Accuracy: tensor(0.1643, device='cuda:0')\n",
      "\n",
      "Training - Epoch 32\n",
      "Loss: 1.7566092014312744\n",
      "Accuracy: tensor(0.9357, device='cuda:0')\n",
      "\n",
      "Training - Epoch 64\n",
      "Loss: 1.5660686492919922\n",
      "Accuracy: tensor(0.9857, device='cuda:0')\n",
      "\n",
      "Training - Epoch 96\n",
      "Loss: 1.353902816772461\n",
      "Accuracy: tensor(0.9929, device='cuda:0')\n",
      "\n",
      "Final test accuracy: 0.753894031047821\n",
      "Training - Epoch 0\n",
      "Loss: 1.941400170326233\n",
      "Accuracy: tensor(0.1500, device='cuda:0')\n",
      "\n",
      "Training - Epoch 32\n",
      "Loss: 1.7870146036148071\n",
      "Accuracy: tensor(0.9214, device='cuda:0')\n",
      "\n",
      "Training - Epoch 64\n",
      "Loss: 1.619794249534607\n",
      "Accuracy: tensor(0.9786, device='cuda:0')\n",
      "\n",
      "Training - Epoch 96\n",
      "Loss: 1.4252760410308838\n",
      "Accuracy: tensor(0.9929, device='cuda:0')\n",
      "\n",
      "Final test accuracy: 0.7570093274116516\n",
      "Training - Epoch 0\n",
      "Loss: 1.950863242149353\n",
      "Accuracy: tensor(0.1286, device='cuda:0')\n",
      "\n",
      "Training - Epoch 32\n",
      "Loss: 1.8108575344085693\n",
      "Accuracy: tensor(0.8714, device='cuda:0')\n",
      "\n",
      "Training - Epoch 64\n",
      "Loss: 1.6564103364944458\n",
      "Accuracy: tensor(0.9857, device='cuda:0')\n",
      "\n",
      "Training - Epoch 96\n",
      "Loss: 1.4692950248718262\n",
      "Accuracy: tensor(0.9857, device='cuda:0')\n",
      "\n",
      "Final test accuracy: 0.7834890484809875\n",
      "Training - Epoch 0\n",
      "Loss: 1.9481475353240967\n",
      "Accuracy: tensor(0.1429, device='cuda:0')\n",
      "\n",
      "Training - Epoch 32\n",
      "Loss: 1.830655813217163\n",
      "Accuracy: tensor(0.8714, device='cuda:0')\n",
      "\n",
      "Training - Epoch 64\n",
      "Loss: 1.6938508749008179\n",
      "Accuracy: tensor(0.9786, device='cuda:0')\n",
      "\n",
      "Training - Epoch 96\n",
      "Loss: 1.5194716453552246\n",
      "Accuracy: tensor(0.9786, device='cuda:0')\n",
      "\n",
      "Final test accuracy: 0.6943145990371704\n"
     ]
    }
   ],
   "source": [
    "#TRY MAXPOOLING\n",
    "#Define models with different number of heads\n",
    "\n",
    "model2headpool = GATCoraModed(num_features, \n",
    "                   num_classes,data.edge_index, \n",
    "                   params[\"hidden_features\"],\n",
    "                   2, \"Maxpool\"\n",
    "  ).to(device)\n",
    "\n",
    "res2pool = train(model2headpool, data, adj_matrix, params)\n",
    "test_accuracy2pool = test(model2headpool, data, data.edge_index, params)\n",
    "print(\"Final test accuracy:\", test_accuracy2pool)\n",
    "\n",
    "model3headpool = GATCoraModed(num_features, \n",
    "                   num_classes,data.edge_index, \n",
    "                   params[\"hidden_features\"],\n",
    "                   3, \"Maxpool\"\n",
    "  ).to(device)\n",
    "\n",
    "res3pool = train(model3headpool, data, adj_matrix, params)\n",
    "test_accuracy3pool = test(model3headpool, data, data.edge_index, params)\n",
    "print(\"Final test accuracy:\", test_accuracy3pool)\n",
    "\n",
    "model4headpool = GATCoraModed(num_features, \n",
    "                   num_classes,data.edge_index, \n",
    "                   params[\"hidden_features\"],\n",
    "                   4, \"Maxpool\"\n",
    "  ).to(device)\n",
    "\n",
    "res4pool = train(model4headpool, data, adj_matrix, params)\n",
    "test_accuracy4pool = test(model4headpool, data, data.edge_index, params)\n",
    "print(\"Final test accuracy:\", test_accuracy4pool)\n",
    "\n",
    "model6headpool = GATCoraModed(num_features, \n",
    "                   num_classes,data.edge_index, \n",
    "                   params[\"hidden_features\"],\n",
    "                   6, \"Maxpool\"\n",
    "  ).to(device)\n",
    "\n",
    "res6pool = train(model6headpool, data, adj_matrix, params)\n",
    "test_accuracy6pool = test(model6headpool, data, data.edge_index, params)\n",
    "print(\"Final test accuracy:\", test_accuracy6pool)\n",
    "\n",
    "model8headpool = GATCoraModed(num_features, \n",
    "                   num_classes,data.edge_index, \n",
    "                   params[\"hidden_features\"],\n",
    "                   8, \"Maxpool\"\n",
    "  ).to(device)\n",
    "\n",
    "res8pool = train(model8headpool, data, adj_matrix, params)\n",
    "test_accuracy8pool = test(model8headpool, data, data.edge_index, params)\n",
    "print(\"Final test accuracy:\", test_accuracy8pool)\n",
    "\n",
    "maxres = (res2pool, res3pool, res4pool, res6pool, res8pool)"
   ]
  },
  {
   "cell_type": "code",
   "execution_count": 17,
   "metadata": {
    "execution": {
     "iopub.execute_input": "2023-01-03T07:23:58.553184Z",
     "iopub.status.busy": "2023-01-03T07:23:58.552916Z",
     "iopub.status.idle": "2023-01-03T07:24:12.153222Z",
     "shell.execute_reply": "2023-01-03T07:24:12.152424Z",
     "shell.execute_reply.started": "2023-01-03T07:23:58.553158Z"
    },
    "id": "Yc5QG5fGc8vL"
   },
   "outputs": [
    {
     "name": "stdout",
     "output_type": "stream",
     "text": [
      "Training - Epoch 0\n",
      "Loss: 1.9462556838989258\n",
      "Accuracy: tensor(0.1357, device='cuda:0')\n",
      "\n",
      "Training - Epoch 32\n",
      "Loss: 1.7435446977615356\n",
      "Accuracy: tensor(0.9429, device='cuda:0')\n",
      "\n",
      "Training - Epoch 64\n",
      "Loss: 1.5373541116714478\n",
      "Accuracy: tensor(0.9786, device='cuda:0')\n",
      "\n",
      "Training - Epoch 96\n",
      "Loss: 1.3146127462387085\n",
      "Accuracy: tensor(0.9786, device='cuda:0')\n",
      "\n",
      "Final test accuracy: 0.14291277527809143\n",
      "Training - Epoch 0\n",
      "Loss: 1.9440451860427856\n",
      "Accuracy: tensor(0.1286, device='cuda:0')\n",
      "\n",
      "Training - Epoch 32\n",
      "Loss: 1.7934287786483765\n",
      "Accuracy: tensor(0.9571, device='cuda:0')\n",
      "\n",
      "Training - Epoch 64\n",
      "Loss: 1.6306098699569702\n",
      "Accuracy: tensor(0.9714, device='cuda:0')\n",
      "\n",
      "Training - Epoch 96\n",
      "Loss: 1.441957950592041\n",
      "Accuracy: tensor(0.9714, device='cuda:0')\n",
      "\n",
      "Final test accuracy: 0.7725856304168701\n",
      "Training - Epoch 0\n",
      "Loss: 1.9464529752731323\n",
      "Accuracy: tensor(0.1000, device='cuda:0')\n",
      "\n",
      "Training - Epoch 32\n",
      "Loss: 1.8231210708618164\n",
      "Accuracy: tensor(0.9571, device='cuda:0')\n",
      "\n",
      "Training - Epoch 64\n",
      "Loss: 1.6840500831604004\n",
      "Accuracy: tensor(0.9857, device='cuda:0')\n",
      "\n",
      "Training - Epoch 96\n",
      "Loss: 1.5159173011779785\n",
      "Accuracy: tensor(0.9857, device='cuda:0')\n",
      "\n",
      "Final test accuracy: 0.7760903239250183\n",
      "Training - Epoch 0\n",
      "Loss: 1.9437247514724731\n",
      "Accuracy: tensor(0.1286, device='cuda:0')\n",
      "\n",
      "Training - Epoch 32\n",
      "Loss: 1.8442906141281128\n",
      "Accuracy: tensor(0.9714, device='cuda:0')\n",
      "\n",
      "Training - Epoch 64\n",
      "Loss: 1.7262554168701172\n",
      "Accuracy: tensor(0.9786, device='cuda:0')\n",
      "\n",
      "Training - Epoch 96\n",
      "Loss: 1.5769349336624146\n",
      "Accuracy: tensor(0.9857, device='cuda:0')\n",
      "\n",
      "Final test accuracy: 0.787772536277771\n",
      "Training - Epoch 0\n",
      "Loss: 1.945229172706604\n",
      "Accuracy: tensor(0.1143, device='cuda:0')\n",
      "\n",
      "Training - Epoch 32\n",
      "Loss: 1.8598333597183228\n",
      "Accuracy: tensor(0.9714, device='cuda:0')\n",
      "\n",
      "Training - Epoch 64\n",
      "Loss: 1.7543537616729736\n",
      "Accuracy: tensor(0.9786, device='cuda:0')\n",
      "\n",
      "Training - Epoch 96\n",
      "Loss: 1.6163349151611328\n",
      "Accuracy: tensor(0.9786, device='cuda:0')\n",
      "\n",
      "Final test accuracy: 0.7823208570480347\n"
     ]
    }
   ],
   "source": [
    "#TRY MAXPOOLING\n",
    "#Define models with different number of heads\n",
    "\n",
    "model2headmean = GATCoraModed(num_features, \n",
    "                   num_classes,data.edge_index, \n",
    "                   params[\"hidden_features\"],\n",
    "                   2, \"Mean\"\n",
    "  ).to(device)\n",
    "\n",
    "res2mean = train(model2headpool, data, adj_matrix, params)\n",
    "test_accuracy2mean = test(model2headmean, data, data.edge_index, params)\n",
    "print(\"Final test accuracy:\", test_accuracy2mean)\n",
    "\n",
    "model3headmean = GATCoraModed(num_features, \n",
    "                   num_classes,data.edge_index, \n",
    "                   params[\"hidden_features\"],\n",
    "                   3, \"Mean\"\n",
    "  ).to(device)\n",
    "\n",
    "res3mean = train(model3headmean, data, adj_matrix, params)\n",
    "test_accuracy3mean = test(model3headmean, data, data.edge_index, params)\n",
    "print(\"Final test accuracy:\", test_accuracy3mean)\n",
    "\n",
    "model4headmean = GATCoraModed(num_features, \n",
    "                   num_classes,data.edge_index, \n",
    "                   params[\"hidden_features\"],\n",
    "                   4, \"Mean\"\n",
    "  ).to(device)\n",
    "\n",
    "res4mean = train(model4headmean, data, adj_matrix, params)\n",
    "test_accuracy4mean = test(model4headmean, data, data.edge_index, params)\n",
    "print(\"Final test accuracy:\", test_accuracy4mean)\n",
    "\n",
    "model6headmean = GATCoraModed(num_features, \n",
    "                   num_classes,data.edge_index, \n",
    "                   params[\"hidden_features\"],\n",
    "                   6, \"Mean\"\n",
    "  ).to(device)\n",
    "\n",
    "res6mean = train(model6headmean, data, adj_matrix, params)\n",
    "test_accuracy6mean = test(model6headmean, data, data.edge_index, params)\n",
    "print(\"Final test accuracy:\", test_accuracy6mean)\n",
    "\n",
    "model8headmean = GATCoraModed(num_features, \n",
    "                   num_classes,data.edge_index, \n",
    "                   params[\"hidden_features\"],\n",
    "                   8, \"Mean\"\n",
    "  ).to(device)\n",
    "\n",
    "res8mean = train(model8headmean, data, adj_matrix, params)\n",
    "test_accuracy8mean = test(model8headmean, data, data.edge_index, params)\n",
    "print(\"Final test accuracy:\", test_accuracy8mean)\n",
    "\n",
    "resmean = (res2mean, res3mean, res4mean, res6mean, res8mean)"
   ]
  },
  {
   "cell_type": "markdown",
   "metadata": {},
   "source": [
    "Let's plot the result:"
   ]
  },
  {
   "cell_type": "code",
   "execution_count": 18,
   "metadata": {
    "execution": {
     "iopub.execute_input": "2023-01-03T07:24:12.156269Z",
     "iopub.status.busy": "2023-01-03T07:24:12.155992Z",
     "iopub.status.idle": "2023-01-03T07:24:13.225495Z",
     "shell.execute_reply": "2023-01-03T07:24:13.224242Z",
     "shell.execute_reply.started": "2023-01-03T07:24:12.156243Z"
    },
    "id": "Yc5QG5fGc8vL"
   },
   "outputs": [],
   "source": [
    "import matplotlib.pyplot as plt"
   ]
  },
  {
   "cell_type": "markdown",
   "metadata": {},
   "source": [
    "Maxpooling plots "
   ]
  },
  {
   "cell_type": "code",
   "execution_count": 25,
   "metadata": {
    "execution": {
     "iopub.execute_input": "2023-01-03T07:25:05.496770Z",
     "iopub.status.busy": "2023-01-03T07:25:05.496430Z",
     "iopub.status.idle": "2023-01-03T07:25:05.717742Z",
     "shell.execute_reply": "2023-01-03T07:25:05.716634Z",
     "shell.execute_reply.started": "2023-01-03T07:25:05.496689Z"
    }
   },
   "outputs": [
    {
     "data": {
      "image/png": "[encoded data removed]",
      "text/plain": [
       "<Figure size 720x360 with 1 Axes>"
      ]
     },
     "metadata": {
      "needs_background": "light"
     },
     "output_type": "display_data"
    }
   ],
   "source": [
    "head_nb = [2, 3, 4, 6, 8]\n",
    "colours = [\"cyan\", \"red\", \"magenta\", \"green\", \"blue\"]\n",
    "\n",
    "plt.figure(figsize=(10,5))\n",
    "plt.title(\"Max: Training and test accuracy\")\n",
    "plt.plot([], label=\"Train acc\", color = \"black\")\n",
    "plt.plot([], label='Test acc',color = \"black\", linestyle='dashed')\n",
    "for i, res in enumerate(maxres):\n",
    "    _, train_acc_pool, test_acc_pool = res\n",
    "    plt.plot(test_acc_pool, color = colours[i], linestyle='dashed')\n",
    "    plt.plot(train_acc_pool, label=str(head_nb[i]) + \" heads\", color = colours[i])\n",
    "plt.xlabel(\"epochs\")\n",
    "plt.ylabel(\"accuracy\")\n",
    "plt.legend()\n",
    "plt.show()\n",
    "\n",
    "#best: 4heads "
   ]
  },
  {
   "cell_type": "markdown",
   "metadata": {},
   "source": [
    "Mean plots "
   ]
  },
  {
   "cell_type": "code",
   "execution_count": 20,
   "metadata": {
    "execution": {
     "iopub.execute_input": "2023-01-03T07:24:13.620250Z",
     "iopub.status.busy": "2023-01-03T07:24:13.619931Z",
     "iopub.status.idle": "2023-01-03T07:24:13.846124Z",
     "shell.execute_reply": "2023-01-03T07:24:13.845117Z",
     "shell.execute_reply.started": "2023-01-03T07:24:13.620223Z"
    }
   },
   "outputs": [
    {
     "data": {
      "image/png": "[encoded data removed]",
      "text/plain": [
       "<Figure size 720x360 with 1 Axes>"
      ]
     },
     "metadata": {
      "needs_background": "light"
     },
     "output_type": "display_data"
    }
   ],
   "source": [
    "plt.figure(figsize=(10,5))\n",
    "plt.title(\"Mean: Training and test accuracy\")\n",
    "plt.plot([], label=\"Train acc\", color = \"black\")\n",
    "plt.plot([], label='Test acc',color = \"black\", linestyle='dashed')\n",
    "for i, res in enumerate(resmean):\n",
    "    _, train_acc_pool, test_acc_pool = res\n",
    "    plt.plot(test_acc_pool, color = colours[i], linestyle='dashed')\n",
    "    plt.plot(train_acc_pool, label=str(head_nb[i]) + \" heads\", color = colours[i])\n",
    "plt.xlabel(\"epochs\")\n",
    "plt.ylabel(\"accuracy\")\n",
    "plt.legend()\n",
    "plt.show()"
   ]
  },
  {
   "cell_type": "code",
   "execution_count": 21,
   "metadata": {
    "execution": {
     "iopub.execute_input": "2023-01-03T07:24:13.847844Z",
     "iopub.status.busy": "2023-01-03T07:24:13.847510Z",
     "iopub.status.idle": "2023-01-03T07:24:14.067219Z",
     "shell.execute_reply": "2023-01-03T07:24:14.066234Z",
     "shell.execute_reply.started": "2023-01-03T07:24:13.847844Z"
    }
   },
   "outputs": [
    {
     "data": {
      "image/png": "[encoded data removed]",
      "text/plain": [
       "<Figure size 720x360 with 1 Axes>"
      ]
     },
     "metadata": {
      "needs_background": "light"
     },
     "output_type": "display_data"
    }
   ],
   "source": [
    "plt.figure(figsize=(10,5))\n",
    "plt.title(\"Concat: Training and test accuracy\")\n",
    "plt.plot([], label=\"Train acc\", color = \"black\")\n",
    "plt.plot([], label='Test acc',color = \"black\", linestyle='dashed')\n",
    "for i, res in enumerate(concatres):\n",
    "    _, train_acc_pool, test_acc_pool = res\n",
    "    plt.plot(test_acc_pool, color = colours[i], linestyle='dashed')\n",
    "    plt.plot(train_acc_pool, label=str(head_nb[i]) + \" heads\", color = colours[i])\n",
    "plt.xlabel(\"epochs\")\n",
    "plt.ylabel(\"accuracy\")\n",
    "plt.legend()\n",
    "plt.show()"
   ]
  },
  {
   "cell_type": "markdown",
   "metadata": {},
   "source": [
    "Comparison of final accuracies"
   ]
  },
  {
   "cell_type": "code",
   "execution_count": 35,
   "metadata": {
    "execution": {
     "iopub.execute_input": "2023-01-03T08:03:45.875052Z",
     "iopub.status.busy": "2023-01-03T08:03:45.874492Z",
     "iopub.status.idle": "2023-01-03T08:03:46.247993Z",
     "shell.execute_reply": "2023-01-03T08:03:46.246756Z",
     "shell.execute_reply.started": "2023-01-03T08:03:45.875008Z"
    }
   },
   "outputs": [
    {
     "data": {
      "image/png": "[encoded data removed]",
      "text/plain": [
       "<Figure size 432x288 with 1 Axes>"
      ]
     },
     "metadata": {
      "needs_background": "light"
     },
     "output_type": "display_data"
    }
   ],
   "source": [
    "concat_final = []\n",
    "for r in concatres:\n",
    "    _, _, t_acc = r\n",
    "    concat_final.append(round(t_acc[-1], 2))\n",
    "\n",
    "mean_final = []\n",
    "for r in resmean:\n",
    "    _, _, t_acc = r\n",
    "    mean_final.append(round(t_acc[-1], 2))\n",
    "\n",
    "max_final = []\n",
    "for r in maxres:\n",
    "    _, _, t_acc = r\n",
    "    max_final.append(round(t_acc[-1], 2))\n",
    "\n",
    "labels = ['2 heads', '3 heads', '4 heads', '6 heads', '8 heads']\n",
    "\n",
    "x = np.arange(len(labels))  # the label locations\n",
    "width = 0.25  # the width of the bars\n",
    "fig, ax = plt.subplots()\n",
    "rects1 = ax.bar(x - width, concat_final, width, label='Concat')\n",
    "rects2 = ax.bar(x, mean_final, width, label='Mean')\n",
    "rects2 = ax.bar(x + width, max_final, width, label='Max')\n",
    "\n",
    "# Add some text for labels, title and custom x-axis tick labels, etc.\n",
    "ax.set_ylabel('Accuracies')\n",
    "ax.set_title('Final test accuracies for each function')\n",
    "ax.set_xticks(x, labels)\n",
    "ax.legend()\n",
    "ax.set_ylim([0.5, 1])\n",
    "\n",
    "ax.bar_label(rects1, padding=3)\n",
    "ax.bar_label(rects2, padding=3)\n",
    "\n",
    "fig.tight_layout()\n",
    "\n",
    "plt.show()\n"
   ]
  },
  {
   "cell_type": "code",
   "execution_count": null,
   "metadata": {},
   "outputs": [],
   "source": []
  }
 ],
 "metadata": {
  "accelerator": "GPU",
  "colab": {
   "provenance": []
  },
  "gpuClass": "standard",
  "kernelspec": {
   "display_name": "Python 3 (ipykernel)",
   "language": "python",
   "name": "python3"
  },
  "language_info": {
   "codemirror_mode": {
    "name": "ipython",
    "version": 3
   },
   "file_extension": ".py",
   "mimetype": "text/x-python",
   "name": "python",
   "nbconvert_exporter": "python",
   "pygments_lexer": "ipython3",
   "version": "3.9.13"
  }
 },
 "nbformat": 4,
 "nbformat_minor": 4
}
